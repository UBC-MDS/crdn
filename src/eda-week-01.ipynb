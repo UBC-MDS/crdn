{
 "cells": [
  {
   "cell_type": "code",
   "execution_count": null,
   "id": "8f5d52d4-a8ed-44a1-ab48-190f22871602",
   "metadata": {},
   "outputs": [],
   "source": [
    "#Test Code"
   ]
  }
 ],
 "metadata": {
  "kernelspec": {
   "display_name": "Python [conda env:dsci513]",
   "language": "python",
   "name": "conda-env-dsci513-py"
  },
  "language_info": {
   "codemirror_mode": {
    "name": "ipython",
    "version": 3
   },
   "file_extension": ".py",
   "mimetype": "text/x-python",
   "name": "python",
   "nbconvert_exporter": "python",
   "pygments_lexer": "ipython3",
   "version": "3.11.0"
  }
 },
 "nbformat": 4,
 "nbformat_minor": 5
}
